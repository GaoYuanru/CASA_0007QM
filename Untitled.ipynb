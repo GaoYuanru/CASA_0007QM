{
 "cells": [
  {
   "cell_type": "code",
   "execution_count": 2,
   "id": "cc6f34c8-0d55-4ac8-8298-4138f823ee93",
   "metadata": {},
   "outputs": [],
   "source": [
    "# The following lines import the necessary packages\n",
    "import pandas as pd\n",
    "\n",
    "import matplotlib.cm\n",
    "from matplotlib import colors\n",
    "import matplotlib.pyplot as plt # For plotting\n",
    "import numpy as np              # For working with numerical data\n",
    "import sklearn.cluster as sklc  # For clustering\n",
    "import sklearn.metrics as sklm  # For the silhouette score\n",
    "\n",
    "from sklearn.preprocessing import RobustScaler\n",
    "import sklearn"
   ]
  },
  {
   "cell_type": "code",
   "execution_count": 3,
   "id": "d91a5cc1-27cb-408a-87e8-7526bd27375d",
   "metadata": {},
   "outputs": [
    {
     "data": {
      "text/plain": [
       "'1.1.1'"
      ]
     },
     "execution_count": 3,
     "metadata": {},
     "output_type": "execute_result"
    }
   ],
   "source": [
    "sklearn.__version__"
   ]
  },
  {
   "cell_type": "code",
   "execution_count": 4,
   "id": "8b6c6b2a-7606-4f49-934b-416dba293319",
   "metadata": {},
   "outputs": [
    {
     "name": "stdout",
     "output_type": "stream",
     "text": [
      "      full_name  population  unemp  health_ins  poverty  SNAP  no_comp  \\\n",
      "0             1       55869    2.7         7.1     15.4  12.7     13.0   \n",
      "1             2      223234    2.7        10.2     10.6   7.5     11.4   \n",
      "2             3       24686    3.8        11.2     28.9  27.4     23.9   \n",
      "3             4       22394    3.1         7.9     14.0  12.4     23.7   \n",
      "4             5       57826    2.7        11.0     14.4   9.5     21.3   \n",
      "...         ...         ...    ...         ...      ...   ...      ...   \n",
      "1872       1873        9831    4.4        13.4      8.4   2.2      5.4   \n",
      "1873       1874       42343    3.9        12.0     12.0   5.8      7.7   \n",
      "1874       1875       20226    3.9        12.2     12.5   7.1      6.1   \n",
      "1875       1876        7805    3.9        15.4     12.4   4.9     12.1   \n",
      "1876       1877        6927    2.9        13.3     17.4   4.7     13.8   \n",
      "\n",
      "      no_internet  home_broad  broad_num  ...  WorkAtHome  MeanCommute  \\\n",
      "0            20.9        78.9        0.0  ...         2.5         25.8   \n",
      "1            21.3        78.1        0.0  ...         5.6         27.0   \n",
      "2            38.9        60.4        4.0  ...         1.3         23.4   \n",
      "3            33.8        66.1        0.0  ...         1.5         30.0   \n",
      "4            30.6        68.5        0.0  ...         2.1         35.0   \n",
      "...           ...         ...        ...  ...         ...          ...   \n",
      "1872         17.5        81.7        3.0  ...         7.0         20.9   \n",
      "1873         16.1        82.4        5.0  ...         1.5         20.5   \n",
      "1874         11.5        88.2        5.0  ...         2.0         19.9   \n",
      "1875         21.5        78.3        5.0  ...         4.4         14.3   \n",
      "1876         26.1        73.3        2.0  ...         6.9         25.7   \n",
      "\n",
      "      Employed  PrivateWork  PublicWork  SelfEmployed  FamilyWork  \\\n",
      "0        24112         74.1        20.2           5.6         0.1   \n",
      "1        89527         80.7        12.9           6.3         0.1   \n",
      "2         8878         74.1        19.1           6.5         0.3   \n",
      "3         8171         76.0        17.4           6.3         0.3   \n",
      "4        21380         83.9        11.9           4.0         0.1   \n",
      "...        ...          ...         ...           ...         ...   \n",
      "1872      5396         72.6        23.9           3.4         0.2   \n",
      "1873     22739         78.4        17.8           3.8         0.0   \n",
      "1874      9528         71.5        21.5           6.6         0.4   \n",
      "1875      3833         69.8        22.0           8.1         0.2   \n",
      "1876      3407         68.2        21.9           8.8         1.1   \n",
      "\n",
      "      Unemployment  Diversity.Index    Mean  \n",
      "0              5.2         0.388898   632.0  \n",
      "1              5.5         0.297942  1034.0  \n",
      "2             12.4         0.556605   411.0  \n",
      "3              8.2         0.394100   596.0  \n",
      "4              4.9         0.221056   541.0  \n",
      "...            ...              ...     ...  \n",
      "1872           4.2         0.218882  1042.0  \n",
      "1873           5.2         0.340296   863.0  \n",
      "1874           6.4         0.225552   651.0  \n",
      "1875           6.1         0.296868     NaN  \n",
      "1876           2.2         0.147697     NaN  \n",
      "\n",
      "[1877 rows x 57 columns]\n"
     ]
    }
   ],
   "source": [
    "# This line sets the number of clusters you want to find:\n",
    "#num_clusters = 2\n",
    "\n",
    "file_data_simple = 'unique_data_del.csv'\n",
    "data = pd.read_csv(file_data_simple)\n",
    "# header=None means that there is no header int this file\n",
    "#data.columns = ['Var_0', 'Var_1']\n",
    "#You can print it to have a look if you want:\n",
    "print(data)"
   ]
  },
  {
   "cell_type": "code",
   "execution_count": 3,
   "id": "21170a49-3f6c-41c4-b25b-5c0605c7298c",
   "metadata": {},
   "outputs": [
    {
     "data": {
      "text/plain": [
       "Text(0.5, 1.0, 'Scatter plot of simple data')"
      ]
     },
     "execution_count": 3,
     "metadata": {},
     "output_type": "execute_result"
    },
    {
     "data": {
      "image/png": "[encoded data removed]",
      "text/plain": [
       "<Figure size 432x288 with 1 Axes>"
      ]
     },
     "metadata": {
      "needs_background": "light"
     },
     "output_type": "display_data"
    }
   ],
   "source": [
    "#num_clusters = 61\n",
    "#data.columns = ['Var_0', 'Var_1']\n",
    "# a scatter plot of this data\n",
    "ax = data.plot.scatter(x = 'full_name', y = 'Mean')\n",
    "ax.set_xlabel(\"First attribute\")\n",
    "ax.set_ylabel(\"Second attribute\")\n",
    "ax.set_title(\"Scatter plot of simple data\")"
   ]
  },
  {
   "cell_type": "code",
   "execution_count": 5,
   "id": "3181ed56-cf6a-4bb0-ae8f-252d769a1c76",
   "metadata": {},
   "outputs": [
    {
     "data": {
      "text/html": [
       "<div>\n",
       "<style scoped>\n",
       "    .dataframe tbody tr th:only-of-type {\n",
       "        vertical-align: middle;\n",
       "    }\n",
       "\n",
       "    .dataframe tbody tr th {\n",
       "        vertical-align: top;\n",
       "    }\n",
       "\n",
       "    .dataframe thead th {\n",
       "        text-align: right;\n",
       "    }\n",
       "</style>\n",
       "<table border=\"1\" class=\"dataframe\">\n",
       "  <thead>\n",
       "    <tr style=\"text-align: right;\">\n",
       "      <th></th>\n",
       "      <th>full_name</th>\n",
       "      <th>population</th>\n",
       "      <th>unemp</th>\n",
       "      <th>health_ins</th>\n",
       "      <th>poverty</th>\n",
       "      <th>SNAP</th>\n",
       "      <th>no_comp</th>\n",
       "      <th>no_internet</th>\n",
       "      <th>home_broad</th>\n",
       "      <th>broad_num</th>\n",
       "      <th>...</th>\n",
       "      <th>WorkAtHome</th>\n",
       "      <th>MeanCommute</th>\n",
       "      <th>Employed</th>\n",
       "      <th>PrivateWork</th>\n",
       "      <th>PublicWork</th>\n",
       "      <th>SelfEmployed</th>\n",
       "      <th>FamilyWork</th>\n",
       "      <th>Unemployment</th>\n",
       "      <th>Diversity.Index</th>\n",
       "      <th>Mean</th>\n",
       "    </tr>\n",
       "  </thead>\n",
       "  <tbody>\n",
       "    <tr>\n",
       "      <th>0</th>\n",
       "      <td>0.000000</td>\n",
       "      <td>0.005557</td>\n",
       "      <td>0.107527</td>\n",
       "      <td>0.121005</td>\n",
       "      <td>0.274090</td>\n",
       "      <td>0.212020</td>\n",
       "      <td>0.192371</td>\n",
       "      <td>0.238913</td>\n",
       "      <td>0.762178</td>\n",
       "      <td>0.000000</td>\n",
       "      <td>...</td>\n",
       "      <td>0.075758</td>\n",
       "      <td>0.529412</td>\n",
       "      <td>0.005009</td>\n",
       "      <td>0.747826</td>\n",
       "      <td>0.247892</td>\n",
       "      <td>0.147368</td>\n",
       "      <td>0.016393</td>\n",
       "      <td>0.180556</td>\n",
       "      <td>0.509547</td>\n",
       "      <td>0.190304</td>\n",
       "    </tr>\n",
       "    <tr>\n",
       "      <th>1</th>\n",
       "      <td>0.000533</td>\n",
       "      <td>0.022228</td>\n",
       "      <td>0.107527</td>\n",
       "      <td>0.191781</td>\n",
       "      <td>0.171306</td>\n",
       "      <td>0.125209</td>\n",
       "      <td>0.165837</td>\n",
       "      <td>0.244635</td>\n",
       "      <td>0.750716</td>\n",
       "      <td>0.000000</td>\n",
       "      <td>...</td>\n",
       "      <td>0.169697</td>\n",
       "      <td>0.560102</td>\n",
       "      <td>0.018621</td>\n",
       "      <td>0.862609</td>\n",
       "      <td>0.124789</td>\n",
       "      <td>0.165789</td>\n",
       "      <td>0.016393</td>\n",
       "      <td>0.190972</td>\n",
       "      <td>0.383291</td>\n",
       "      <td>0.311352</td>\n",
       "    </tr>\n",
       "    <tr>\n",
       "      <th>2</th>\n",
       "      <td>0.001066</td>\n",
       "      <td>0.002450</td>\n",
       "      <td>0.166667</td>\n",
       "      <td>0.214612</td>\n",
       "      <td>0.563169</td>\n",
       "      <td>0.457429</td>\n",
       "      <td>0.373134</td>\n",
       "      <td>0.496423</td>\n",
       "      <td>0.497135</td>\n",
       "      <td>0.266667</td>\n",
       "      <td>...</td>\n",
       "      <td>0.039394</td>\n",
       "      <td>0.468031</td>\n",
       "      <td>0.001839</td>\n",
       "      <td>0.747826</td>\n",
       "      <td>0.229342</td>\n",
       "      <td>0.171053</td>\n",
       "      <td>0.049180</td>\n",
       "      <td>0.430556</td>\n",
       "      <td>0.742342</td>\n",
       "      <td>0.123758</td>\n",
       "    </tr>\n",
       "    <tr>\n",
       "      <th>3</th>\n",
       "      <td>0.001599</td>\n",
       "      <td>0.002222</td>\n",
       "      <td>0.129032</td>\n",
       "      <td>0.139269</td>\n",
       "      <td>0.244111</td>\n",
       "      <td>0.207012</td>\n",
       "      <td>0.369818</td>\n",
       "      <td>0.423462</td>\n",
       "      <td>0.578797</td>\n",
       "      <td>0.000000</td>\n",
       "      <td>...</td>\n",
       "      <td>0.045455</td>\n",
       "      <td>0.636829</td>\n",
       "      <td>0.001692</td>\n",
       "      <td>0.780870</td>\n",
       "      <td>0.200675</td>\n",
       "      <td>0.165789</td>\n",
       "      <td>0.049180</td>\n",
       "      <td>0.284722</td>\n",
       "      <td>0.516768</td>\n",
       "      <td>0.179464</td>\n",
       "    </tr>\n",
       "    <tr>\n",
       "      <th>4</th>\n",
       "      <td>0.002132</td>\n",
       "      <td>0.005752</td>\n",
       "      <td>0.107527</td>\n",
       "      <td>0.210046</td>\n",
       "      <td>0.252677</td>\n",
       "      <td>0.158598</td>\n",
       "      <td>0.330017</td>\n",
       "      <td>0.377682</td>\n",
       "      <td>0.613181</td>\n",
       "      <td>0.000000</td>\n",
       "      <td>...</td>\n",
       "      <td>0.063636</td>\n",
       "      <td>0.764706</td>\n",
       "      <td>0.004441</td>\n",
       "      <td>0.918261</td>\n",
       "      <td>0.107926</td>\n",
       "      <td>0.105263</td>\n",
       "      <td>0.016393</td>\n",
       "      <td>0.170139</td>\n",
       "      <td>0.276566</td>\n",
       "      <td>0.162903</td>\n",
       "    </tr>\n",
       "  </tbody>\n",
       "</table>\n",
       "<p>5 rows × 57 columns</p>\n",
       "</div>"
      ],
      "text/plain": [
       "   full_name  population     unemp  health_ins   poverty      SNAP   no_comp  \\\n",
       "0   0.000000    0.005557  0.107527    0.121005  0.274090  0.212020  0.192371   \n",
       "1   0.000533    0.022228  0.107527    0.191781  0.171306  0.125209  0.165837   \n",
       "2   0.001066    0.002450  0.166667    0.214612  0.563169  0.457429  0.373134   \n",
       "3   0.001599    0.002222  0.129032    0.139269  0.244111  0.207012  0.369818   \n",
       "4   0.002132    0.005752  0.107527    0.210046  0.252677  0.158598  0.330017   \n",
       "\n",
       "   no_internet  home_broad  broad_num  ...  WorkAtHome  MeanCommute  Employed  \\\n",
       "0     0.238913    0.762178   0.000000  ...    0.075758     0.529412  0.005009   \n",
       "1     0.244635    0.750716   0.000000  ...    0.169697     0.560102  0.018621   \n",
       "2     0.496423    0.497135   0.266667  ...    0.039394     0.468031  0.001839   \n",
       "3     0.423462    0.578797   0.000000  ...    0.045455     0.636829  0.001692   \n",
       "4     0.377682    0.613181   0.000000  ...    0.063636     0.764706  0.004441   \n",
       "\n",
       "   PrivateWork  PublicWork  SelfEmployed  FamilyWork  Unemployment  \\\n",
       "0     0.747826    0.247892      0.147368    0.016393      0.180556   \n",
       "1     0.862609    0.124789      0.165789    0.016393      0.190972   \n",
       "2     0.747826    0.229342      0.171053    0.049180      0.430556   \n",
       "3     0.780870    0.200675      0.165789    0.049180      0.284722   \n",
       "4     0.918261    0.107926      0.105263    0.016393      0.170139   \n",
       "\n",
       "   Diversity.Index      Mean  \n",
       "0         0.509547  0.190304  \n",
       "1         0.383291  0.311352  \n",
       "2         0.742342  0.123758  \n",
       "3         0.516768  0.179464  \n",
       "4         0.276566  0.162903  \n",
       "\n",
       "[5 rows x 57 columns]"
      ]
     },
     "execution_count": 5,
     "metadata": {},
     "output_type": "execute_result"
    }
   ],
   "source": [
    "from sklearn.preprocessing import MinMaxScaler\n",
    "mms = MinMaxScaler()\n",
    "\n",
    "data_standardised = data.copy()\n",
    "for c in data.columns.values:\n",
    "    data_standardised[c] = mms.fit_transform(data[c].values.reshape(-1,1))\n",
    "data_standardised.head()"
   ]
  },
  {
   "cell_type": "code",
   "execution_count": 11,
   "id": "34cf3ddc-98f6-438e-a59c-4c1598b28e0a",
   "metadata": {},
   "outputs": [
    {
     "ename": "MissingDataError",
     "evalue": "exog contains inf or nans",
     "output_type": "error",
     "traceback": [
      "\u001b[0;31m---------------------------------------------------------------------------\u001b[0m",
      "\u001b[0;31mMissingDataError\u001b[0m                          Traceback (most recent call last)",
      "Input \u001b[0;32mIn [11]\u001b[0m, in \u001b[0;36m<cell line: 15>\u001b[0;34m()\u001b[0m\n\u001b[1;32m     12\u001b[0m X \u001b[38;5;241m=\u001b[39m sm\u001b[38;5;241m.\u001b[39madd_constant(X)\n\u001b[1;32m     14\u001b[0m \u001b[38;5;66;03m# Run the regression\u001b[39;00m\n\u001b[0;32m---> 15\u001b[0m model \u001b[38;5;241m=\u001b[39m \u001b[43msm\u001b[49m\u001b[38;5;241;43m.\u001b[39;49m\u001b[43mOLS\u001b[49m\u001b[43m(\u001b[49m\u001b[43my\u001b[49m\u001b[43m,\u001b[49m\u001b[43m \u001b[49m\u001b[43mX\u001b[49m\u001b[43m)\u001b[49m\u001b[38;5;241m.\u001b[39mfit()\n\u001b[1;32m     17\u001b[0m \u001b[38;5;66;03m# Print the results\u001b[39;00m\n\u001b[1;32m     18\u001b[0m \u001b[38;5;28mprint\u001b[39m(model\u001b[38;5;241m.\u001b[39msummary())\n",
      "File \u001b[0;32m/opt/conda/lib/python3.10/site-packages/statsmodels/regression/linear_model.py:890\u001b[0m, in \u001b[0;36mOLS.__init__\u001b[0;34m(self, endog, exog, missing, hasconst, **kwargs)\u001b[0m\n\u001b[1;32m    887\u001b[0m     msg \u001b[38;5;241m=\u001b[39m (\u001b[38;5;124m\"\u001b[39m\u001b[38;5;124mWeights are not supported in OLS and will be ignored\u001b[39m\u001b[38;5;124m\"\u001b[39m\n\u001b[1;32m    888\u001b[0m            \u001b[38;5;124m\"\u001b[39m\u001b[38;5;124mAn exception will be raised in the next version.\u001b[39m\u001b[38;5;124m\"\u001b[39m)\n\u001b[1;32m    889\u001b[0m     warnings\u001b[38;5;241m.\u001b[39mwarn(msg, ValueWarning)\n\u001b[0;32m--> 890\u001b[0m \u001b[38;5;28;43msuper\u001b[39;49m\u001b[43m(\u001b[49m\u001b[43mOLS\u001b[49m\u001b[43m,\u001b[49m\u001b[43m \u001b[49m\u001b[38;5;28;43mself\u001b[39;49m\u001b[43m)\u001b[49m\u001b[38;5;241;43m.\u001b[39;49m\u001b[38;5;21;43m__init__\u001b[39;49m\u001b[43m(\u001b[49m\u001b[43mendog\u001b[49m\u001b[43m,\u001b[49m\u001b[43m \u001b[49m\u001b[43mexog\u001b[49m\u001b[43m,\u001b[49m\u001b[43m \u001b[49m\u001b[43mmissing\u001b[49m\u001b[38;5;241;43m=\u001b[39;49m\u001b[43mmissing\u001b[49m\u001b[43m,\u001b[49m\n\u001b[1;32m    891\u001b[0m \u001b[43m                          \u001b[49m\u001b[43mhasconst\u001b[49m\u001b[38;5;241;43m=\u001b[39;49m\u001b[43mhasconst\u001b[49m\u001b[43m,\u001b[49m\u001b[43m \u001b[49m\u001b[38;5;241;43m*\u001b[39;49m\u001b[38;5;241;43m*\u001b[39;49m\u001b[43mkwargs\u001b[49m\u001b[43m)\u001b[49m\n\u001b[1;32m    892\u001b[0m \u001b[38;5;28;01mif\u001b[39;00m \u001b[38;5;124m\"\u001b[39m\u001b[38;5;124mweights\u001b[39m\u001b[38;5;124m\"\u001b[39m \u001b[38;5;129;01min\u001b[39;00m \u001b[38;5;28mself\u001b[39m\u001b[38;5;241m.\u001b[39m_init_keys:\n\u001b[1;32m    893\u001b[0m     \u001b[38;5;28mself\u001b[39m\u001b[38;5;241m.\u001b[39m_init_keys\u001b[38;5;241m.\u001b[39mremove(\u001b[38;5;124m\"\u001b[39m\u001b[38;5;124mweights\u001b[39m\u001b[38;5;124m\"\u001b[39m)\n",
      "File \u001b[0;32m/opt/conda/lib/python3.10/site-packages/statsmodels/regression/linear_model.py:717\u001b[0m, in \u001b[0;36mWLS.__init__\u001b[0;34m(self, endog, exog, weights, missing, hasconst, **kwargs)\u001b[0m\n\u001b[1;32m    715\u001b[0m \u001b[38;5;28;01melse\u001b[39;00m:\n\u001b[1;32m    716\u001b[0m     weights \u001b[38;5;241m=\u001b[39m weights\u001b[38;5;241m.\u001b[39msqueeze()\n\u001b[0;32m--> 717\u001b[0m \u001b[38;5;28;43msuper\u001b[39;49m\u001b[43m(\u001b[49m\u001b[43mWLS\u001b[49m\u001b[43m,\u001b[49m\u001b[43m \u001b[49m\u001b[38;5;28;43mself\u001b[39;49m\u001b[43m)\u001b[49m\u001b[38;5;241;43m.\u001b[39;49m\u001b[38;5;21;43m__init__\u001b[39;49m\u001b[43m(\u001b[49m\u001b[43mendog\u001b[49m\u001b[43m,\u001b[49m\u001b[43m \u001b[49m\u001b[43mexog\u001b[49m\u001b[43m,\u001b[49m\u001b[43m \u001b[49m\u001b[43mmissing\u001b[49m\u001b[38;5;241;43m=\u001b[39;49m\u001b[43mmissing\u001b[49m\u001b[43m,\u001b[49m\n\u001b[1;32m    718\u001b[0m \u001b[43m                          \u001b[49m\u001b[43mweights\u001b[49m\u001b[38;5;241;43m=\u001b[39;49m\u001b[43mweights\u001b[49m\u001b[43m,\u001b[49m\u001b[43m \u001b[49m\u001b[43mhasconst\u001b[49m\u001b[38;5;241;43m=\u001b[39;49m\u001b[43mhasconst\u001b[49m\u001b[43m,\u001b[49m\u001b[43m \u001b[49m\u001b[38;5;241;43m*\u001b[39;49m\u001b[38;5;241;43m*\u001b[39;49m\u001b[43mkwargs\u001b[49m\u001b[43m)\u001b[49m\n\u001b[1;32m    719\u001b[0m nobs \u001b[38;5;241m=\u001b[39m \u001b[38;5;28mself\u001b[39m\u001b[38;5;241m.\u001b[39mexog\u001b[38;5;241m.\u001b[39mshape[\u001b[38;5;241m0\u001b[39m]\n\u001b[1;32m    720\u001b[0m weights \u001b[38;5;241m=\u001b[39m \u001b[38;5;28mself\u001b[39m\u001b[38;5;241m.\u001b[39mweights\n",
      "File \u001b[0;32m/opt/conda/lib/python3.10/site-packages/statsmodels/regression/linear_model.py:191\u001b[0m, in \u001b[0;36mRegressionModel.__init__\u001b[0;34m(self, endog, exog, **kwargs)\u001b[0m\n\u001b[1;32m    190\u001b[0m \u001b[38;5;28;01mdef\u001b[39;00m \u001b[38;5;21m__init__\u001b[39m(\u001b[38;5;28mself\u001b[39m, endog, exog, \u001b[38;5;241m*\u001b[39m\u001b[38;5;241m*\u001b[39mkwargs):\n\u001b[0;32m--> 191\u001b[0m     \u001b[38;5;28;43msuper\u001b[39;49m\u001b[43m(\u001b[49m\u001b[43mRegressionModel\u001b[49m\u001b[43m,\u001b[49m\u001b[43m \u001b[49m\u001b[38;5;28;43mself\u001b[39;49m\u001b[43m)\u001b[49m\u001b[38;5;241;43m.\u001b[39;49m\u001b[38;5;21;43m__init__\u001b[39;49m\u001b[43m(\u001b[49m\u001b[43mendog\u001b[49m\u001b[43m,\u001b[49m\u001b[43m \u001b[49m\u001b[43mexog\u001b[49m\u001b[43m,\u001b[49m\u001b[43m \u001b[49m\u001b[38;5;241;43m*\u001b[39;49m\u001b[38;5;241;43m*\u001b[39;49m\u001b[43mkwargs\u001b[49m\u001b[43m)\u001b[49m\n\u001b[1;32m    192\u001b[0m     \u001b[38;5;28mself\u001b[39m\u001b[38;5;241m.\u001b[39m_data_attr\u001b[38;5;241m.\u001b[39mextend([\u001b[38;5;124m'\u001b[39m\u001b[38;5;124mpinv_wexog\u001b[39m\u001b[38;5;124m'\u001b[39m, \u001b[38;5;124m'\u001b[39m\u001b[38;5;124mwendog\u001b[39m\u001b[38;5;124m'\u001b[39m, \u001b[38;5;124m'\u001b[39m\u001b[38;5;124mwexog\u001b[39m\u001b[38;5;124m'\u001b[39m, \u001b[38;5;124m'\u001b[39m\u001b[38;5;124mweights\u001b[39m\u001b[38;5;124m'\u001b[39m])\n",
      "File \u001b[0;32m/opt/conda/lib/python3.10/site-packages/statsmodels/base/model.py:267\u001b[0m, in \u001b[0;36mLikelihoodModel.__init__\u001b[0;34m(self, endog, exog, **kwargs)\u001b[0m\n\u001b[1;32m    266\u001b[0m \u001b[38;5;28;01mdef\u001b[39;00m \u001b[38;5;21m__init__\u001b[39m(\u001b[38;5;28mself\u001b[39m, endog, exog\u001b[38;5;241m=\u001b[39m\u001b[38;5;28;01mNone\u001b[39;00m, \u001b[38;5;241m*\u001b[39m\u001b[38;5;241m*\u001b[39mkwargs):\n\u001b[0;32m--> 267\u001b[0m     \u001b[38;5;28;43msuper\u001b[39;49m\u001b[43m(\u001b[49m\u001b[43m)\u001b[49m\u001b[38;5;241;43m.\u001b[39;49m\u001b[38;5;21;43m__init__\u001b[39;49m\u001b[43m(\u001b[49m\u001b[43mendog\u001b[49m\u001b[43m,\u001b[49m\u001b[43m \u001b[49m\u001b[43mexog\u001b[49m\u001b[43m,\u001b[49m\u001b[43m \u001b[49m\u001b[38;5;241;43m*\u001b[39;49m\u001b[38;5;241;43m*\u001b[39;49m\u001b[43mkwargs\u001b[49m\u001b[43m)\u001b[49m\n\u001b[1;32m    268\u001b[0m     \u001b[38;5;28mself\u001b[39m\u001b[38;5;241m.\u001b[39minitialize()\n",
      "File \u001b[0;32m/opt/conda/lib/python3.10/site-packages/statsmodels/base/model.py:92\u001b[0m, in \u001b[0;36mModel.__init__\u001b[0;34m(self, endog, exog, **kwargs)\u001b[0m\n\u001b[1;32m     90\u001b[0m missing \u001b[38;5;241m=\u001b[39m kwargs\u001b[38;5;241m.\u001b[39mpop(\u001b[38;5;124m'\u001b[39m\u001b[38;5;124mmissing\u001b[39m\u001b[38;5;124m'\u001b[39m, \u001b[38;5;124m'\u001b[39m\u001b[38;5;124mnone\u001b[39m\u001b[38;5;124m'\u001b[39m)\n\u001b[1;32m     91\u001b[0m hasconst \u001b[38;5;241m=\u001b[39m kwargs\u001b[38;5;241m.\u001b[39mpop(\u001b[38;5;124m'\u001b[39m\u001b[38;5;124mhasconst\u001b[39m\u001b[38;5;124m'\u001b[39m, \u001b[38;5;28;01mNone\u001b[39;00m)\n\u001b[0;32m---> 92\u001b[0m \u001b[38;5;28mself\u001b[39m\u001b[38;5;241m.\u001b[39mdata \u001b[38;5;241m=\u001b[39m \u001b[38;5;28;43mself\u001b[39;49m\u001b[38;5;241;43m.\u001b[39;49m\u001b[43m_handle_data\u001b[49m\u001b[43m(\u001b[49m\u001b[43mendog\u001b[49m\u001b[43m,\u001b[49m\u001b[43m \u001b[49m\u001b[43mexog\u001b[49m\u001b[43m,\u001b[49m\u001b[43m \u001b[49m\u001b[43mmissing\u001b[49m\u001b[43m,\u001b[49m\u001b[43m \u001b[49m\u001b[43mhasconst\u001b[49m\u001b[43m,\u001b[49m\n\u001b[1;32m     93\u001b[0m \u001b[43m                              \u001b[49m\u001b[38;5;241;43m*\u001b[39;49m\u001b[38;5;241;43m*\u001b[39;49m\u001b[43mkwargs\u001b[49m\u001b[43m)\u001b[49m\n\u001b[1;32m     94\u001b[0m \u001b[38;5;28mself\u001b[39m\u001b[38;5;241m.\u001b[39mk_constant \u001b[38;5;241m=\u001b[39m \u001b[38;5;28mself\u001b[39m\u001b[38;5;241m.\u001b[39mdata\u001b[38;5;241m.\u001b[39mk_constant\n\u001b[1;32m     95\u001b[0m \u001b[38;5;28mself\u001b[39m\u001b[38;5;241m.\u001b[39mexog \u001b[38;5;241m=\u001b[39m \u001b[38;5;28mself\u001b[39m\u001b[38;5;241m.\u001b[39mdata\u001b[38;5;241m.\u001b[39mexog\n",
      "File \u001b[0;32m/opt/conda/lib/python3.10/site-packages/statsmodels/base/model.py:132\u001b[0m, in \u001b[0;36mModel._handle_data\u001b[0;34m(self, endog, exog, missing, hasconst, **kwargs)\u001b[0m\n\u001b[1;32m    131\u001b[0m \u001b[38;5;28;01mdef\u001b[39;00m \u001b[38;5;21m_handle_data\u001b[39m(\u001b[38;5;28mself\u001b[39m, endog, exog, missing, hasconst, \u001b[38;5;241m*\u001b[39m\u001b[38;5;241m*\u001b[39mkwargs):\n\u001b[0;32m--> 132\u001b[0m     data \u001b[38;5;241m=\u001b[39m \u001b[43mhandle_data\u001b[49m\u001b[43m(\u001b[49m\u001b[43mendog\u001b[49m\u001b[43m,\u001b[49m\u001b[43m \u001b[49m\u001b[43mexog\u001b[49m\u001b[43m,\u001b[49m\u001b[43m \u001b[49m\u001b[43mmissing\u001b[49m\u001b[43m,\u001b[49m\u001b[43m \u001b[49m\u001b[43mhasconst\u001b[49m\u001b[43m,\u001b[49m\u001b[43m \u001b[49m\u001b[38;5;241;43m*\u001b[39;49m\u001b[38;5;241;43m*\u001b[39;49m\u001b[43mkwargs\u001b[49m\u001b[43m)\u001b[49m\n\u001b[1;32m    133\u001b[0m     \u001b[38;5;66;03m# kwargs arrays could have changed, easier to just attach here\u001b[39;00m\n\u001b[1;32m    134\u001b[0m     \u001b[38;5;28;01mfor\u001b[39;00m key \u001b[38;5;129;01min\u001b[39;00m kwargs:\n",
      "File \u001b[0;32m/opt/conda/lib/python3.10/site-packages/statsmodels/base/data.py:673\u001b[0m, in \u001b[0;36mhandle_data\u001b[0;34m(endog, exog, missing, hasconst, **kwargs)\u001b[0m\n\u001b[1;32m    670\u001b[0m     exog \u001b[38;5;241m=\u001b[39m np\u001b[38;5;241m.\u001b[39masarray(exog)\n\u001b[1;32m    672\u001b[0m klass \u001b[38;5;241m=\u001b[39m handle_data_class_factory(endog, exog)\n\u001b[0;32m--> 673\u001b[0m \u001b[38;5;28;01mreturn\u001b[39;00m \u001b[43mklass\u001b[49m\u001b[43m(\u001b[49m\u001b[43mendog\u001b[49m\u001b[43m,\u001b[49m\u001b[43m \u001b[49m\u001b[43mexog\u001b[49m\u001b[38;5;241;43m=\u001b[39;49m\u001b[43mexog\u001b[49m\u001b[43m,\u001b[49m\u001b[43m \u001b[49m\u001b[43mmissing\u001b[49m\u001b[38;5;241;43m=\u001b[39;49m\u001b[43mmissing\u001b[49m\u001b[43m,\u001b[49m\u001b[43m \u001b[49m\u001b[43mhasconst\u001b[49m\u001b[38;5;241;43m=\u001b[39;49m\u001b[43mhasconst\u001b[49m\u001b[43m,\u001b[49m\n\u001b[1;32m    674\u001b[0m \u001b[43m             \u001b[49m\u001b[38;5;241;43m*\u001b[39;49m\u001b[38;5;241;43m*\u001b[39;49m\u001b[43mkwargs\u001b[49m\u001b[43m)\u001b[49m\n",
      "File \u001b[0;32m/opt/conda/lib/python3.10/site-packages/statsmodels/base/data.py:86\u001b[0m, in \u001b[0;36mModelData.__init__\u001b[0;34m(self, endog, exog, missing, hasconst, **kwargs)\u001b[0m\n\u001b[1;32m     84\u001b[0m \u001b[38;5;28mself\u001b[39m\u001b[38;5;241m.\u001b[39mconst_idx \u001b[38;5;241m=\u001b[39m \u001b[38;5;28;01mNone\u001b[39;00m\n\u001b[1;32m     85\u001b[0m \u001b[38;5;28mself\u001b[39m\u001b[38;5;241m.\u001b[39mk_constant \u001b[38;5;241m=\u001b[39m \u001b[38;5;241m0\u001b[39m\n\u001b[0;32m---> 86\u001b[0m \u001b[38;5;28;43mself\u001b[39;49m\u001b[38;5;241;43m.\u001b[39;49m\u001b[43m_handle_constant\u001b[49m\u001b[43m(\u001b[49m\u001b[43mhasconst\u001b[49m\u001b[43m)\u001b[49m\n\u001b[1;32m     87\u001b[0m \u001b[38;5;28mself\u001b[39m\u001b[38;5;241m.\u001b[39m_check_integrity()\n\u001b[1;32m     88\u001b[0m \u001b[38;5;28mself\u001b[39m\u001b[38;5;241m.\u001b[39m_cache \u001b[38;5;241m=\u001b[39m {}\n",
      "File \u001b[0;32m/opt/conda/lib/python3.10/site-packages/statsmodels/base/data.py:132\u001b[0m, in \u001b[0;36mModelData._handle_constant\u001b[0;34m(self, hasconst)\u001b[0m\n\u001b[1;32m    130\u001b[0m exog_max \u001b[38;5;241m=\u001b[39m np\u001b[38;5;241m.\u001b[39mmax(\u001b[38;5;28mself\u001b[39m\u001b[38;5;241m.\u001b[39mexog, axis\u001b[38;5;241m=\u001b[39m\u001b[38;5;241m0\u001b[39m)\n\u001b[1;32m    131\u001b[0m \u001b[38;5;28;01mif\u001b[39;00m \u001b[38;5;129;01mnot\u001b[39;00m np\u001b[38;5;241m.\u001b[39misfinite(exog_max)\u001b[38;5;241m.\u001b[39mall():\n\u001b[0;32m--> 132\u001b[0m     \u001b[38;5;28;01mraise\u001b[39;00m MissingDataError(\u001b[38;5;124m'\u001b[39m\u001b[38;5;124mexog contains inf or nans\u001b[39m\u001b[38;5;124m'\u001b[39m)\n\u001b[1;32m    133\u001b[0m exog_min \u001b[38;5;241m=\u001b[39m np\u001b[38;5;241m.\u001b[39mmin(\u001b[38;5;28mself\u001b[39m\u001b[38;5;241m.\u001b[39mexog, axis\u001b[38;5;241m=\u001b[39m\u001b[38;5;241m0\u001b[39m)\n\u001b[1;32m    134\u001b[0m const_idx \u001b[38;5;241m=\u001b[39m np\u001b[38;5;241m.\u001b[39mwhere(exog_max \u001b[38;5;241m==\u001b[39m exog_min)[\u001b[38;5;241m0\u001b[39m]\u001b[38;5;241m.\u001b[39msqueeze()\n",
      "\u001b[0;31mMissingDataError\u001b[0m: exog contains inf or nans"
     ]
    }
   ],
   "source": [
    "import pandas as pd\n",
    "import statsmodels.api as sm\n",
    "\n",
    "# Read in the CSV file\n",
    "#df = pd.read_csv('data.csv')\n",
    "\n",
    "# Define the independent and dependent variables\n",
    "X = data_standardised[['health_ins','poverty']] # independent variables\n",
    "y = data_standardised['no_internet'] # dependent variable\n",
    "\n",
    "# Add a constant term to the independent variables\n",
    "X = sm.add_constant(X)\n",
    "\n",
    "# Run the regression\n",
    "model = sm.OLS(y, X).fit()\n",
    "\n",
    "# Print the results\n",
    "print(model.summary())\n"
   ]
  },
  {
   "cell_type": "code",
   "execution_count": 9,
   "id": "2a3b58df-e111-4bda-9a35-a9a607733d1b",
   "metadata": {},
   "outputs": [],
   "source": []
  },
  {
   "cell_type": "code",
   "execution_count": 12,
   "id": "3d0c50d4-48ef-409c-a85a-cf69dd3b93cf",
   "metadata": {},
   "outputs": [],
   "source": [
    "\n"
   ]
  },
  {
   "cell_type": "code",
   "execution_count": 14,
   "id": "565dd7a1-62d4-4e01-97bd-8f9491cbf6ad",
   "metadata": {},
   "outputs": [
    {
     "ename": "TypeError",
     "evalue": "Model.from_formula() missing 1 required positional argument: 'data'",
     "output_type": "error",
     "traceback": [
      "\u001b[0;31m---------------------------------------------------------------------------\u001b[0m",
      "\u001b[0;31mTypeError\u001b[0m                                 Traceback (most recent call last)",
      "Input \u001b[0;32mIn [14]\u001b[0m, in \u001b[0;36m<cell line: 3>\u001b[0;34m()\u001b[0m\n\u001b[1;32m      1\u001b[0m \u001b[38;5;28;01mimport\u001b[39;00m \u001b[38;5;21;01mstatsmodels\u001b[39;00m\u001b[38;5;21;01m.\u001b[39;00m\u001b[38;5;21;01mformula\u001b[39;00m\u001b[38;5;21;01m.\u001b[39;00m\u001b[38;5;21;01mapi\u001b[39;00m \u001b[38;5;28;01mas\u001b[39;00m \u001b[38;5;21;01msmf\u001b[39;00m\n\u001b[1;32m      2\u001b[0m \u001b[38;5;66;03m# create a fitted model with all three features\u001b[39;00m\n\u001b[0;32m----> 3\u001b[0m lm \u001b[38;5;241m=\u001b[39m \u001b[43msmf\u001b[49m\u001b[38;5;241;43m.\u001b[39;49m\u001b[43mols\u001b[49m\u001b[43m(\u001b[49m\u001b[43mformula\u001b[49m\u001b[38;5;241;43m=\u001b[39;49m\u001b[38;5;124;43m'\u001b[39;49m\u001b[38;5;124;43mno_internet ~ health_ins + poverty + Mean\u001b[39;49m\u001b[38;5;124;43m'\u001b[39;49m\u001b[43m,\u001b[49m\u001b[43m \u001b[49m\u001b[43mdata_standardised\u001b[49m\u001b[38;5;241;43m=\u001b[39;49m\u001b[43mdata_standardised\u001b[49m\u001b[43m)\u001b[49m\u001b[38;5;241m.\u001b[39mfit()\n\u001b[1;32m      5\u001b[0m \u001b[38;5;66;03m# print the coefficients\u001b[39;00m\n\u001b[1;32m      6\u001b[0m lm\u001b[38;5;241m.\u001b[39mparams\n",
      "\u001b[0;31mTypeError\u001b[0m: Model.from_formula() missing 1 required positional argument: 'data'"
     ]
    }
   ],
   "source": [
    "import statsmodels.formula.api as smf\n",
    "# create a fitted model with all three features\n",
    "lm = smf.ols(formula='no_internet ~ health_ins + poverty + Mean', data_standardised=data_standardised).fit()\n",
    "\n",
    "# print the coefficients\n",
    "lm.params"
   ]
  },
  {
   "cell_type": "code",
   "execution_count": null,
   "id": "93b81e8b-92f3-4a4a-be81-b076a247bda6",
   "metadata": {},
   "outputs": [],
   "source": []
  }
 ],
 "metadata": {
  "kernelspec": {
   "display_name": "Python 3 (ipykernel)",
   "language": "python",
   "name": "python3"
  },
  "language_info": {
   "codemirror_mode": {
    "name": "ipython",
    "version": 3
   },
   "file_extension": ".py",
   "mimetype": "text/x-python",
   "name": "python",
   "nbconvert_exporter": "python",
   "pygments_lexer": "ipython3",
   "version": "3.10.5"
  },
  "vscode": {
   "interpreter": {
    "hash": "45a851a8e049304e8d8fc9276f397ed5699faa42a654317800ed71714fc34a6c"
   }
  }
 },
 "nbformat": 4,
 "nbformat_minor": 5
}
